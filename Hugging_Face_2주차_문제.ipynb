{
  "nbformat": 4,
  "nbformat_minor": 0,
  "metadata": {
    "colab": {
      "provenance": [],
      "gpuType": "A100",
      "include_colab_link": true
    },
    "kernelspec": {
      "name": "python3",
      "display_name": "Python 3"
    },
    "language_info": {
      "name": "python"
    },
    "accelerator": "GPU",
    "widgets": {
      "application/vnd.jupyter.widget-state+json": {
        "f4c119bf4b5a4491a7a638d64e85c511": {
          "model_module": "@jupyter-widgets/controls",
          "model_name": "HBoxModel",
          "model_module_version": "1.5.0",
          "state": {
            "_dom_classes": [],
            "_model_module": "@jupyter-widgets/controls",
            "_model_module_version": "1.5.0",
            "_model_name": "HBoxModel",
            "_view_count": null,
            "_view_module": "@jupyter-widgets/controls",
            "_view_module_version": "1.5.0",
            "_view_name": "HBoxView",
            "box_style": "",
            "children": [
              "IPY_MODEL_e309535fd237465d85db1fdc691c980c",
              "IPY_MODEL_4c4f6fcb94d74cffa11078b6b3bbae2a",
              "IPY_MODEL_714f4e77edc94fccabffa88d0ba57270"
            ],
            "layout": "IPY_MODEL_a4e6d97acb834021a9c7fbfd6638ef14"
          }
        },
        "e309535fd237465d85db1fdc691c980c": {
          "model_module": "@jupyter-widgets/controls",
          "model_name": "HTMLModel",
          "model_module_version": "1.5.0",
          "state": {
            "_dom_classes": [],
            "_model_module": "@jupyter-widgets/controls",
            "_model_module_version": "1.5.0",
            "_model_name": "HTMLModel",
            "_view_count": null,
            "_view_module": "@jupyter-widgets/controls",
            "_view_module_version": "1.5.0",
            "_view_name": "HTMLView",
            "description": "",
            "description_tooltip": null,
            "layout": "IPY_MODEL_7b958838d7204ae39fa095d4c915bc8a",
            "placeholder": "​",
            "style": "IPY_MODEL_9992c0da7c164f80b8756e78df6eff77",
            "value": "tokenizer_config.json: 100%"
          }
        },
        "4c4f6fcb94d74cffa11078b6b3bbae2a": {
          "model_module": "@jupyter-widgets/controls",
          "model_name": "FloatProgressModel",
          "model_module_version": "1.5.0",
          "state": {
            "_dom_classes": [],
            "_model_module": "@jupyter-widgets/controls",
            "_model_module_version": "1.5.0",
            "_model_name": "FloatProgressModel",
            "_view_count": null,
            "_view_module": "@jupyter-widgets/controls",
            "_view_module_version": "1.5.0",
            "_view_name": "ProgressView",
            "bar_style": "success",
            "description": "",
            "description_tooltip": null,
            "layout": "IPY_MODEL_ecbd936c23b648c0b6ef14e0cb5286c9",
            "max": 48,
            "min": 0,
            "orientation": "horizontal",
            "style": "IPY_MODEL_d495697fc8cc48eaaa538274117a43db",
            "value": 48
          }
        },
        "714f4e77edc94fccabffa88d0ba57270": {
          "model_module": "@jupyter-widgets/controls",
          "model_name": "HTMLModel",
          "model_module_version": "1.5.0",
          "state": {
            "_dom_classes": [],
            "_model_module": "@jupyter-widgets/controls",
            "_model_module_version": "1.5.0",
            "_model_name": "HTMLModel",
            "_view_count": null,
            "_view_module": "@jupyter-widgets/controls",
            "_view_module_version": "1.5.0",
            "_view_name": "HTMLView",
            "description": "",
            "description_tooltip": null,
            "layout": "IPY_MODEL_85558d72a7da490c9a5d42721d706e4e",
            "placeholder": "​",
            "style": "IPY_MODEL_5784431c00d04d44bbfe7df824d63b7e",
            "value": " 48.0/48.0 [00:00&lt;00:00, 5.92kB/s]"
          }
        },
        "a4e6d97acb834021a9c7fbfd6638ef14": {
          "model_module": "@jupyter-widgets/base",
          "model_name": "LayoutModel",
          "model_module_version": "1.2.0",
          "state": {
            "_model_module": "@jupyter-widgets/base",
            "_model_module_version": "1.2.0",
            "_model_name": "LayoutModel",
            "_view_count": null,
            "_view_module": "@jupyter-widgets/base",
            "_view_module_version": "1.2.0",
            "_view_name": "LayoutView",
            "align_content": null,
            "align_items": null,
            "align_self": null,
            "border": null,
            "bottom": null,
            "display": null,
            "flex": null,
            "flex_flow": null,
            "grid_area": null,
            "grid_auto_columns": null,
            "grid_auto_flow": null,
            "grid_auto_rows": null,
            "grid_column": null,
            "grid_gap": null,
            "grid_row": null,
            "grid_template_areas": null,
            "grid_template_columns": null,
            "grid_template_rows": null,
            "height": null,
            "justify_content": null,
            "justify_items": null,
            "left": null,
            "margin": null,
            "max_height": null,
            "max_width": null,
            "min_height": null,
            "min_width": null,
            "object_fit": null,
            "object_position": null,
            "order": null,
            "overflow": null,
            "overflow_x": null,
            "overflow_y": null,
            "padding": null,
            "right": null,
            "top": null,
            "visibility": null,
            "width": null
          }
        },
        "7b958838d7204ae39fa095d4c915bc8a": {
          "model_module": "@jupyter-widgets/base",
          "model_name": "LayoutModel",
          "model_module_version": "1.2.0",
          "state": {
            "_model_module": "@jupyter-widgets/base",
            "_model_module_version": "1.2.0",
            "_model_name": "LayoutModel",
            "_view_count": null,
            "_view_module": "@jupyter-widgets/base",
            "_view_module_version": "1.2.0",
            "_view_name": "LayoutView",
            "align_content": null,
            "align_items": null,
            "align_self": null,
            "border": null,
            "bottom": null,
            "display": null,
            "flex": null,
            "flex_flow": null,
            "grid_area": null,
            "grid_auto_columns": null,
            "grid_auto_flow": null,
            "grid_auto_rows": null,
            "grid_column": null,
            "grid_gap": null,
            "grid_row": null,
            "grid_template_areas": null,
            "grid_template_columns": null,
            "grid_template_rows": null,
            "height": null,
            "justify_content": null,
            "justify_items": null,
            "left": null,
            "margin": null,
            "max_height": null,
            "max_width": null,
            "min_height": null,
            "min_width": null,
            "object_fit": null,
            "object_position": null,
            "order": null,
            "overflow": null,
            "overflow_x": null,
            "overflow_y": null,
            "padding": null,
            "right": null,
            "top": null,
            "visibility": null,
            "width": null
          }
        },
        "9992c0da7c164f80b8756e78df6eff77": {
          "model_module": "@jupyter-widgets/controls",
          "model_name": "DescriptionStyleModel",
          "model_module_version": "1.5.0",
          "state": {
            "_model_module": "@jupyter-widgets/controls",
            "_model_module_version": "1.5.0",
            "_model_name": "DescriptionStyleModel",
            "_view_count": null,
            "_view_module": "@jupyter-widgets/base",
            "_view_module_version": "1.2.0",
            "_view_name": "StyleView",
            "description_width": ""
          }
        },
        "ecbd936c23b648c0b6ef14e0cb5286c9": {
          "model_module": "@jupyter-widgets/base",
          "model_name": "LayoutModel",
          "model_module_version": "1.2.0",
          "state": {
            "_model_module": "@jupyter-widgets/base",
            "_model_module_version": "1.2.0",
            "_model_name": "LayoutModel",
            "_view_count": null,
            "_view_module": "@jupyter-widgets/base",
            "_view_module_version": "1.2.0",
            "_view_name": "LayoutView",
            "align_content": null,
            "align_items": null,
            "align_self": null,
            "border": null,
            "bottom": null,
            "display": null,
            "flex": null,
            "flex_flow": null,
            "grid_area": null,
            "grid_auto_columns": null,
            "grid_auto_flow": null,
            "grid_auto_rows": null,
            "grid_column": null,
            "grid_gap": null,
            "grid_row": null,
            "grid_template_areas": null,
            "grid_template_columns": null,
            "grid_template_rows": null,
            "height": null,
            "justify_content": null,
            "justify_items": null,
            "left": null,
            "margin": null,
            "max_height": null,
            "max_width": null,
            "min_height": null,
            "min_width": null,
            "object_fit": null,
            "object_position": null,
            "order": null,
            "overflow": null,
            "overflow_x": null,
            "overflow_y": null,
            "padding": null,
            "right": null,
            "top": null,
            "visibility": null,
            "width": null
          }
        },
        "d495697fc8cc48eaaa538274117a43db": {
          "model_module": "@jupyter-widgets/controls",
          "model_name": "ProgressStyleModel",
          "model_module_version": "1.5.0",
          "state": {
            "_model_module": "@jupyter-widgets/controls",
            "_model_module_version": "1.5.0",
            "_model_name": "ProgressStyleModel",
            "_view_count": null,
            "_view_module": "@jupyter-widgets/base",
            "_view_module_version": "1.2.0",
            "_view_name": "StyleView",
            "bar_color": null,
            "description_width": ""
          }
        },
        "85558d72a7da490c9a5d42721d706e4e": {
          "model_module": "@jupyter-widgets/base",
          "model_name": "LayoutModel",
          "model_module_version": "1.2.0",
          "state": {
            "_model_module": "@jupyter-widgets/base",
            "_model_module_version": "1.2.0",
            "_model_name": "LayoutModel",
            "_view_count": null,
            "_view_module": "@jupyter-widgets/base",
            "_view_module_version": "1.2.0",
            "_view_name": "LayoutView",
            "align_content": null,
            "align_items": null,
            "align_self": null,
            "border": null,
            "bottom": null,
            "display": null,
            "flex": null,
            "flex_flow": null,
            "grid_area": null,
            "grid_auto_columns": null,
            "grid_auto_flow": null,
            "grid_auto_rows": null,
            "grid_column": null,
            "grid_gap": null,
            "grid_row": null,
            "grid_template_areas": null,
            "grid_template_columns": null,
            "grid_template_rows": null,
            "height": null,
            "justify_content": null,
            "justify_items": null,
            "left": null,
            "margin": null,
            "max_height": null,
            "max_width": null,
            "min_height": null,
            "min_width": null,
            "object_fit": null,
            "object_position": null,
            "order": null,
            "overflow": null,
            "overflow_x": null,
            "overflow_y": null,
            "padding": null,
            "right": null,
            "top": null,
            "visibility": null,
            "width": null
          }
        },
        "5784431c00d04d44bbfe7df824d63b7e": {
          "model_module": "@jupyter-widgets/controls",
          "model_name": "DescriptionStyleModel",
          "model_module_version": "1.5.0",
          "state": {
            "_model_module": "@jupyter-widgets/controls",
            "_model_module_version": "1.5.0",
            "_model_name": "DescriptionStyleModel",
            "_view_count": null,
            "_view_module": "@jupyter-widgets/base",
            "_view_module_version": "1.2.0",
            "_view_name": "StyleView",
            "description_width": ""
          }
        },
        "6ec5b05f9c624e6f8f1e91f0b6fce1cd": {
          "model_module": "@jupyter-widgets/controls",
          "model_name": "HBoxModel",
          "model_module_version": "1.5.0",
          "state": {
            "_dom_classes": [],
            "_model_module": "@jupyter-widgets/controls",
            "_model_module_version": "1.5.0",
            "_model_name": "HBoxModel",
            "_view_count": null,
            "_view_module": "@jupyter-widgets/controls",
            "_view_module_version": "1.5.0",
            "_view_name": "HBoxView",
            "box_style": "",
            "children": [
              "IPY_MODEL_529f8bfa668d4b2ba53e122cd56c8fd5",
              "IPY_MODEL_cb600f2778de435b950c5565ddbf31d7",
              "IPY_MODEL_0d4bf57efda0430cbf0a0bcc7f4371b5"
            ],
            "layout": "IPY_MODEL_99fe85b2451044d7a0b08d8dc59839ab"
          }
        },
        "529f8bfa668d4b2ba53e122cd56c8fd5": {
          "model_module": "@jupyter-widgets/controls",
          "model_name": "HTMLModel",
          "model_module_version": "1.5.0",
          "state": {
            "_dom_classes": [],
            "_model_module": "@jupyter-widgets/controls",
            "_model_module_version": "1.5.0",
            "_model_name": "HTMLModel",
            "_view_count": null,
            "_view_module": "@jupyter-widgets/controls",
            "_view_module_version": "1.5.0",
            "_view_name": "HTMLView",
            "description": "",
            "description_tooltip": null,
            "layout": "IPY_MODEL_47e3b3133cb44ca9bdf3b645c4584311",
            "placeholder": "​",
            "style": "IPY_MODEL_5a1c0dd5e66a416eab8f4c7c43c58e2a",
            "value": "vocab.txt: 100%"
          }
        },
        "cb600f2778de435b950c5565ddbf31d7": {
          "model_module": "@jupyter-widgets/controls",
          "model_name": "FloatProgressModel",
          "model_module_version": "1.5.0",
          "state": {
            "_dom_classes": [],
            "_model_module": "@jupyter-widgets/controls",
            "_model_module_version": "1.5.0",
            "_model_name": "FloatProgressModel",
            "_view_count": null,
            "_view_module": "@jupyter-widgets/controls",
            "_view_module_version": "1.5.0",
            "_view_name": "ProgressView",
            "bar_style": "success",
            "description": "",
            "description_tooltip": null,
            "layout": "IPY_MODEL_7f6b75651f6f4b8fa601eecb3530caa9",
            "max": 231508,
            "min": 0,
            "orientation": "horizontal",
            "style": "IPY_MODEL_b2ca0b7757734bf4a6b3eca372e4bd35",
            "value": 231508
          }
        },
        "0d4bf57efda0430cbf0a0bcc7f4371b5": {
          "model_module": "@jupyter-widgets/controls",
          "model_name": "HTMLModel",
          "model_module_version": "1.5.0",
          "state": {
            "_dom_classes": [],
            "_model_module": "@jupyter-widgets/controls",
            "_model_module_version": "1.5.0",
            "_model_name": "HTMLModel",
            "_view_count": null,
            "_view_module": "@jupyter-widgets/controls",
            "_view_module_version": "1.5.0",
            "_view_name": "HTMLView",
            "description": "",
            "description_tooltip": null,
            "layout": "IPY_MODEL_82818b4735354b28b7ff423336ba2858",
            "placeholder": "​",
            "style": "IPY_MODEL_f93dea753e1247319969c7b4af95b90d",
            "value": " 232k/232k [00:00&lt;00:00, 22.8MB/s]"
          }
        },
        "99fe85b2451044d7a0b08d8dc59839ab": {
          "model_module": "@jupyter-widgets/base",
          "model_name": "LayoutModel",
          "model_module_version": "1.2.0",
          "state": {
            "_model_module": "@jupyter-widgets/base",
            "_model_module_version": "1.2.0",
            "_model_name": "LayoutModel",
            "_view_count": null,
            "_view_module": "@jupyter-widgets/base",
            "_view_module_version": "1.2.0",
            "_view_name": "LayoutView",
            "align_content": null,
            "align_items": null,
            "align_self": null,
            "border": null,
            "bottom": null,
            "display": null,
            "flex": null,
            "flex_flow": null,
            "grid_area": null,
            "grid_auto_columns": null,
            "grid_auto_flow": null,
            "grid_auto_rows": null,
            "grid_column": null,
            "grid_gap": null,
            "grid_row": null,
            "grid_template_areas": null,
            "grid_template_columns": null,
            "grid_template_rows": null,
            "height": null,
            "justify_content": null,
            "justify_items": null,
            "left": null,
            "margin": null,
            "max_height": null,
            "max_width": null,
            "min_height": null,
            "min_width": null,
            "object_fit": null,
            "object_position": null,
            "order": null,
            "overflow": null,
            "overflow_x": null,
            "overflow_y": null,
            "padding": null,
            "right": null,
            "top": null,
            "visibility": null,
            "width": null
          }
        },
        "47e3b3133cb44ca9bdf3b645c4584311": {
          "model_module": "@jupyter-widgets/base",
          "model_name": "LayoutModel",
          "model_module_version": "1.2.0",
          "state": {
            "_model_module": "@jupyter-widgets/base",
            "_model_module_version": "1.2.0",
            "_model_name": "LayoutModel",
            "_view_count": null,
            "_view_module": "@jupyter-widgets/base",
            "_view_module_version": "1.2.0",
            "_view_name": "LayoutView",
            "align_content": null,
            "align_items": null,
            "align_self": null,
            "border": null,
            "bottom": null,
            "display": null,
            "flex": null,
            "flex_flow": null,
            "grid_area": null,
            "grid_auto_columns": null,
            "grid_auto_flow": null,
            "grid_auto_rows": null,
            "grid_column": null,
            "grid_gap": null,
            "grid_row": null,
            "grid_template_areas": null,
            "grid_template_columns": null,
            "grid_template_rows": null,
            "height": null,
            "justify_content": null,
            "justify_items": null,
            "left": null,
            "margin": null,
            "max_height": null,
            "max_width": null,
            "min_height": null,
            "min_width": null,
            "object_fit": null,
            "object_position": null,
            "order": null,
            "overflow": null,
            "overflow_x": null,
            "overflow_y": null,
            "padding": null,
            "right": null,
            "top": null,
            "visibility": null,
            "width": null
          }
        },
        "5a1c0dd5e66a416eab8f4c7c43c58e2a": {
          "model_module": "@jupyter-widgets/controls",
          "model_name": "DescriptionStyleModel",
          "model_module_version": "1.5.0",
          "state": {
            "_model_module": "@jupyter-widgets/controls",
            "_model_module_version": "1.5.0",
            "_model_name": "DescriptionStyleModel",
            "_view_count": null,
            "_view_module": "@jupyter-widgets/base",
            "_view_module_version": "1.2.0",
            "_view_name": "StyleView",
            "description_width": ""
          }
        },
        "7f6b75651f6f4b8fa601eecb3530caa9": {
          "model_module": "@jupyter-widgets/base",
          "model_name": "LayoutModel",
          "model_module_version": "1.2.0",
          "state": {
            "_model_module": "@jupyter-widgets/base",
            "_model_module_version": "1.2.0",
            "_model_name": "LayoutModel",
            "_view_count": null,
            "_view_module": "@jupyter-widgets/base",
            "_view_module_version": "1.2.0",
            "_view_name": "LayoutView",
            "align_content": null,
            "align_items": null,
            "align_self": null,
            "border": null,
            "bottom": null,
            "display": null,
            "flex": null,
            "flex_flow": null,
            "grid_area": null,
            "grid_auto_columns": null,
            "grid_auto_flow": null,
            "grid_auto_rows": null,
            "grid_column": null,
            "grid_gap": null,
            "grid_row": null,
            "grid_template_areas": null,
            "grid_template_columns": null,
            "grid_template_rows": null,
            "height": null,
            "justify_content": null,
            "justify_items": null,
            "left": null,
            "margin": null,
            "max_height": null,
            "max_width": null,
            "min_height": null,
            "min_width": null,
            "object_fit": null,
            "object_position": null,
            "order": null,
            "overflow": null,
            "overflow_x": null,
            "overflow_y": null,
            "padding": null,
            "right": null,
            "top": null,
            "visibility": null,
            "width": null
          }
        },
        "b2ca0b7757734bf4a6b3eca372e4bd35": {
          "model_module": "@jupyter-widgets/controls",
          "model_name": "ProgressStyleModel",
          "model_module_version": "1.5.0",
          "state": {
            "_model_module": "@jupyter-widgets/controls",
            "_model_module_version": "1.5.0",
            "_model_name": "ProgressStyleModel",
            "_view_count": null,
            "_view_module": "@jupyter-widgets/base",
            "_view_module_version": "1.2.0",
            "_view_name": "StyleView",
            "bar_color": null,
            "description_width": ""
          }
        },
        "82818b4735354b28b7ff423336ba2858": {
          "model_module": "@jupyter-widgets/base",
          "model_name": "LayoutModel",
          "model_module_version": "1.2.0",
          "state": {
            "_model_module": "@jupyter-widgets/base",
            "_model_module_version": "1.2.0",
            "_model_name": "LayoutModel",
            "_view_count": null,
            "_view_module": "@jupyter-widgets/base",
            "_view_module_version": "1.2.0",
            "_view_name": "LayoutView",
            "align_content": null,
            "align_items": null,
            "align_self": null,
            "border": null,
            "bottom": null,
            "display": null,
            "flex": null,
            "flex_flow": null,
            "grid_area": null,
            "grid_auto_columns": null,
            "grid_auto_flow": null,
            "grid_auto_rows": null,
            "grid_column": null,
            "grid_gap": null,
            "grid_row": null,
            "grid_template_areas": null,
            "grid_template_columns": null,
            "grid_template_rows": null,
            "height": null,
            "justify_content": null,
            "justify_items": null,
            "left": null,
            "margin": null,
            "max_height": null,
            "max_width": null,
            "min_height": null,
            "min_width": null,
            "object_fit": null,
            "object_position": null,
            "order": null,
            "overflow": null,
            "overflow_x": null,
            "overflow_y": null,
            "padding": null,
            "right": null,
            "top": null,
            "visibility": null,
            "width": null
          }
        },
        "f93dea753e1247319969c7b4af95b90d": {
          "model_module": "@jupyter-widgets/controls",
          "model_name": "DescriptionStyleModel",
          "model_module_version": "1.5.0",
          "state": {
            "_model_module": "@jupyter-widgets/controls",
            "_model_module_version": "1.5.0",
            "_model_name": "DescriptionStyleModel",
            "_view_count": null,
            "_view_module": "@jupyter-widgets/base",
            "_view_module_version": "1.2.0",
            "_view_name": "StyleView",
            "description_width": ""
          }
        },
        "47b35191bedb49789449ff5f58e8862f": {
          "model_module": "@jupyter-widgets/controls",
          "model_name": "HBoxModel",
          "model_module_version": "1.5.0",
          "state": {
            "_dom_classes": [],
            "_model_module": "@jupyter-widgets/controls",
            "_model_module_version": "1.5.0",
            "_model_name": "HBoxModel",
            "_view_count": null,
            "_view_module": "@jupyter-widgets/controls",
            "_view_module_version": "1.5.0",
            "_view_name": "HBoxView",
            "box_style": "",
            "children": [
              "IPY_MODEL_c6aee929ff2f42d495011e3100321cdf",
              "IPY_MODEL_8560e909262448a19ecc95f27765124c",
              "IPY_MODEL_40f25c53562046ca9e876aba25d3f632"
            ],
            "layout": "IPY_MODEL_6be80d4ffb27466b9e5475f3b964f719"
          }
        },
        "c6aee929ff2f42d495011e3100321cdf": {
          "model_module": "@jupyter-widgets/controls",
          "model_name": "HTMLModel",
          "model_module_version": "1.5.0",
          "state": {
            "_dom_classes": [],
            "_model_module": "@jupyter-widgets/controls",
            "_model_module_version": "1.5.0",
            "_model_name": "HTMLModel",
            "_view_count": null,
            "_view_module": "@jupyter-widgets/controls",
            "_view_module_version": "1.5.0",
            "_view_name": "HTMLView",
            "description": "",
            "description_tooltip": null,
            "layout": "IPY_MODEL_585fef870e83433893e7df63167e3908",
            "placeholder": "​",
            "style": "IPY_MODEL_5336ba7b24c342c78c8bd988d200b71f",
            "value": "tokenizer.json: 100%"
          }
        },
        "8560e909262448a19ecc95f27765124c": {
          "model_module": "@jupyter-widgets/controls",
          "model_name": "FloatProgressModel",
          "model_module_version": "1.5.0",
          "state": {
            "_dom_classes": [],
            "_model_module": "@jupyter-widgets/controls",
            "_model_module_version": "1.5.0",
            "_model_name": "FloatProgressModel",
            "_view_count": null,
            "_view_module": "@jupyter-widgets/controls",
            "_view_module_version": "1.5.0",
            "_view_name": "ProgressView",
            "bar_style": "success",
            "description": "",
            "description_tooltip": null,
            "layout": "IPY_MODEL_7c515e7088d94538bca4bf8ae92b426a",
            "max": 466062,
            "min": 0,
            "orientation": "horizontal",
            "style": "IPY_MODEL_22daa93357884cb99cfd542f4a4b11c3",
            "value": 466062
          }
        },
        "40f25c53562046ca9e876aba25d3f632": {
          "model_module": "@jupyter-widgets/controls",
          "model_name": "HTMLModel",
          "model_module_version": "1.5.0",
          "state": {
            "_dom_classes": [],
            "_model_module": "@jupyter-widgets/controls",
            "_model_module_version": "1.5.0",
            "_model_name": "HTMLModel",
            "_view_count": null,
            "_view_module": "@jupyter-widgets/controls",
            "_view_module_version": "1.5.0",
            "_view_name": "HTMLView",
            "description": "",
            "description_tooltip": null,
            "layout": "IPY_MODEL_a9e2930380764bd2855a4aba5fc9020c",
            "placeholder": "​",
            "style": "IPY_MODEL_3a55e98dbf064e96b68b3e9cf2a52c0b",
            "value": " 466k/466k [00:00&lt;00:00, 28.9MB/s]"
          }
        },
        "6be80d4ffb27466b9e5475f3b964f719": {
          "model_module": "@jupyter-widgets/base",
          "model_name": "LayoutModel",
          "model_module_version": "1.2.0",
          "state": {
            "_model_module": "@jupyter-widgets/base",
            "_model_module_version": "1.2.0",
            "_model_name": "LayoutModel",
            "_view_count": null,
            "_view_module": "@jupyter-widgets/base",
            "_view_module_version": "1.2.0",
            "_view_name": "LayoutView",
            "align_content": null,
            "align_items": null,
            "align_self": null,
            "border": null,
            "bottom": null,
            "display": null,
            "flex": null,
            "flex_flow": null,
            "grid_area": null,
            "grid_auto_columns": null,
            "grid_auto_flow": null,
            "grid_auto_rows": null,
            "grid_column": null,
            "grid_gap": null,
            "grid_row": null,
            "grid_template_areas": null,
            "grid_template_columns": null,
            "grid_template_rows": null,
            "height": null,
            "justify_content": null,
            "justify_items": null,
            "left": null,
            "margin": null,
            "max_height": null,
            "max_width": null,
            "min_height": null,
            "min_width": null,
            "object_fit": null,
            "object_position": null,
            "order": null,
            "overflow": null,
            "overflow_x": null,
            "overflow_y": null,
            "padding": null,
            "right": null,
            "top": null,
            "visibility": null,
            "width": null
          }
        },
        "585fef870e83433893e7df63167e3908": {
          "model_module": "@jupyter-widgets/base",
          "model_name": "LayoutModel",
          "model_module_version": "1.2.0",
          "state": {
            "_model_module": "@jupyter-widgets/base",
            "_model_module_version": "1.2.0",
            "_model_name": "LayoutModel",
            "_view_count": null,
            "_view_module": "@jupyter-widgets/base",
            "_view_module_version": "1.2.0",
            "_view_name": "LayoutView",
            "align_content": null,
            "align_items": null,
            "align_self": null,
            "border": null,
            "bottom": null,
            "display": null,
            "flex": null,
            "flex_flow": null,
            "grid_area": null,
            "grid_auto_columns": null,
            "grid_auto_flow": null,
            "grid_auto_rows": null,
            "grid_column": null,
            "grid_gap": null,
            "grid_row": null,
            "grid_template_areas": null,
            "grid_template_columns": null,
            "grid_template_rows": null,
            "height": null,
            "justify_content": null,
            "justify_items": null,
            "left": null,
            "margin": null,
            "max_height": null,
            "max_width": null,
            "min_height": null,
            "min_width": null,
            "object_fit": null,
            "object_position": null,
            "order": null,
            "overflow": null,
            "overflow_x": null,
            "overflow_y": null,
            "padding": null,
            "right": null,
            "top": null,
            "visibility": null,
            "width": null
          }
        },
        "5336ba7b24c342c78c8bd988d200b71f": {
          "model_module": "@jupyter-widgets/controls",
          "model_name": "DescriptionStyleModel",
          "model_module_version": "1.5.0",
          "state": {
            "_model_module": "@jupyter-widgets/controls",
            "_model_module_version": "1.5.0",
            "_model_name": "DescriptionStyleModel",
            "_view_count": null,
            "_view_module": "@jupyter-widgets/base",
            "_view_module_version": "1.2.0",
            "_view_name": "StyleView",
            "description_width": ""
          }
        },
        "7c515e7088d94538bca4bf8ae92b426a": {
          "model_module": "@jupyter-widgets/base",
          "model_name": "LayoutModel",
          "model_module_version": "1.2.0",
          "state": {
            "_model_module": "@jupyter-widgets/base",
            "_model_module_version": "1.2.0",
            "_model_name": "LayoutModel",
            "_view_count": null,
            "_view_module": "@jupyter-widgets/base",
            "_view_module_version": "1.2.0",
            "_view_name": "LayoutView",
            "align_content": null,
            "align_items": null,
            "align_self": null,
            "border": null,
            "bottom": null,
            "display": null,
            "flex": null,
            "flex_flow": null,
            "grid_area": null,
            "grid_auto_columns": null,
            "grid_auto_flow": null,
            "grid_auto_rows": null,
            "grid_column": null,
            "grid_gap": null,
            "grid_row": null,
            "grid_template_areas": null,
            "grid_template_columns": null,
            "grid_template_rows": null,
            "height": null,
            "justify_content": null,
            "justify_items": null,
            "left": null,
            "margin": null,
            "max_height": null,
            "max_width": null,
            "min_height": null,
            "min_width": null,
            "object_fit": null,
            "object_position": null,
            "order": null,
            "overflow": null,
            "overflow_x": null,
            "overflow_y": null,
            "padding": null,
            "right": null,
            "top": null,
            "visibility": null,
            "width": null
          }
        },
        "22daa93357884cb99cfd542f4a4b11c3": {
          "model_module": "@jupyter-widgets/controls",
          "model_name": "ProgressStyleModel",
          "model_module_version": "1.5.0",
          "state": {
            "_model_module": "@jupyter-widgets/controls",
            "_model_module_version": "1.5.0",
            "_model_name": "ProgressStyleModel",
            "_view_count": null,
            "_view_module": "@jupyter-widgets/base",
            "_view_module_version": "1.2.0",
            "_view_name": "StyleView",
            "bar_color": null,
            "description_width": ""
          }
        },
        "a9e2930380764bd2855a4aba5fc9020c": {
          "model_module": "@jupyter-widgets/base",
          "model_name": "LayoutModel",
          "model_module_version": "1.2.0",
          "state": {
            "_model_module": "@jupyter-widgets/base",
            "_model_module_version": "1.2.0",
            "_model_name": "LayoutModel",
            "_view_count": null,
            "_view_module": "@jupyter-widgets/base",
            "_view_module_version": "1.2.0",
            "_view_name": "LayoutView",
            "align_content": null,
            "align_items": null,
            "align_self": null,
            "border": null,
            "bottom": null,
            "display": null,
            "flex": null,
            "flex_flow": null,
            "grid_area": null,
            "grid_auto_columns": null,
            "grid_auto_flow": null,
            "grid_auto_rows": null,
            "grid_column": null,
            "grid_gap": null,
            "grid_row": null,
            "grid_template_areas": null,
            "grid_template_columns": null,
            "grid_template_rows": null,
            "height": null,
            "justify_content": null,
            "justify_items": null,
            "left": null,
            "margin": null,
            "max_height": null,
            "max_width": null,
            "min_height": null,
            "min_width": null,
            "object_fit": null,
            "object_position": null,
            "order": null,
            "overflow": null,
            "overflow_x": null,
            "overflow_y": null,
            "padding": null,
            "right": null,
            "top": null,
            "visibility": null,
            "width": null
          }
        },
        "3a55e98dbf064e96b68b3e9cf2a52c0b": {
          "model_module": "@jupyter-widgets/controls",
          "model_name": "DescriptionStyleModel",
          "model_module_version": "1.5.0",
          "state": {
            "_model_module": "@jupyter-widgets/controls",
            "_model_module_version": "1.5.0",
            "_model_name": "DescriptionStyleModel",
            "_view_count": null,
            "_view_module": "@jupyter-widgets/base",
            "_view_module_version": "1.2.0",
            "_view_name": "StyleView",
            "description_width": ""
          }
        },
        "ea5b246b6c4e42409aaa8191880d7549": {
          "model_module": "@jupyter-widgets/controls",
          "model_name": "HBoxModel",
          "model_module_version": "1.5.0",
          "state": {
            "_dom_classes": [],
            "_model_module": "@jupyter-widgets/controls",
            "_model_module_version": "1.5.0",
            "_model_name": "HBoxModel",
            "_view_count": null,
            "_view_module": "@jupyter-widgets/controls",
            "_view_module_version": "1.5.0",
            "_view_name": "HBoxView",
            "box_style": "",
            "children": [
              "IPY_MODEL_948fd6d48dc544bb8f3db1c616a69acc",
              "IPY_MODEL_9a65a678df5844b7872b0b2adb8bd69a",
              "IPY_MODEL_ded998db81da4cca90ada8ce043477f1"
            ],
            "layout": "IPY_MODEL_62bc73a38146402f80ce2da7159c5bbf"
          }
        },
        "948fd6d48dc544bb8f3db1c616a69acc": {
          "model_module": "@jupyter-widgets/controls",
          "model_name": "HTMLModel",
          "model_module_version": "1.5.0",
          "state": {
            "_dom_classes": [],
            "_model_module": "@jupyter-widgets/controls",
            "_model_module_version": "1.5.0",
            "_model_name": "HTMLModel",
            "_view_count": null,
            "_view_module": "@jupyter-widgets/controls",
            "_view_module_version": "1.5.0",
            "_view_name": "HTMLView",
            "description": "",
            "description_tooltip": null,
            "layout": "IPY_MODEL_73334765da7f405ea0dbcb10f9a967a9",
            "placeholder": "​",
            "style": "IPY_MODEL_eb03c2ffc73a4050a415eb820e4b8fc8",
            "value": "config.json: 100%"
          }
        },
        "9a65a678df5844b7872b0b2adb8bd69a": {
          "model_module": "@jupyter-widgets/controls",
          "model_name": "FloatProgressModel",
          "model_module_version": "1.5.0",
          "state": {
            "_dom_classes": [],
            "_model_module": "@jupyter-widgets/controls",
            "_model_module_version": "1.5.0",
            "_model_name": "FloatProgressModel",
            "_view_count": null,
            "_view_module": "@jupyter-widgets/controls",
            "_view_module_version": "1.5.0",
            "_view_name": "ProgressView",
            "bar_style": "success",
            "description": "",
            "description_tooltip": null,
            "layout": "IPY_MODEL_95303c7470174e05b898cc4c944d9d08",
            "max": 483,
            "min": 0,
            "orientation": "horizontal",
            "style": "IPY_MODEL_412874c3b6c743549c7e133c8ebfa6ab",
            "value": 483
          }
        },
        "ded998db81da4cca90ada8ce043477f1": {
          "model_module": "@jupyter-widgets/controls",
          "model_name": "HTMLModel",
          "model_module_version": "1.5.0",
          "state": {
            "_dom_classes": [],
            "_model_module": "@jupyter-widgets/controls",
            "_model_module_version": "1.5.0",
            "_model_name": "HTMLModel",
            "_view_count": null,
            "_view_module": "@jupyter-widgets/controls",
            "_view_module_version": "1.5.0",
            "_view_name": "HTMLView",
            "description": "",
            "description_tooltip": null,
            "layout": "IPY_MODEL_94414a47fa9941a08b1a29fcdf8210d0",
            "placeholder": "​",
            "style": "IPY_MODEL_00d4f83dffff4fffb196aae67a010a2d",
            "value": " 483/483 [00:00&lt;00:00, 67.4kB/s]"
          }
        },
        "62bc73a38146402f80ce2da7159c5bbf": {
          "model_module": "@jupyter-widgets/base",
          "model_name": "LayoutModel",
          "model_module_version": "1.2.0",
          "state": {
            "_model_module": "@jupyter-widgets/base",
            "_model_module_version": "1.2.0",
            "_model_name": "LayoutModel",
            "_view_count": null,
            "_view_module": "@jupyter-widgets/base",
            "_view_module_version": "1.2.0",
            "_view_name": "LayoutView",
            "align_content": null,
            "align_items": null,
            "align_self": null,
            "border": null,
            "bottom": null,
            "display": null,
            "flex": null,
            "flex_flow": null,
            "grid_area": null,
            "grid_auto_columns": null,
            "grid_auto_flow": null,
            "grid_auto_rows": null,
            "grid_column": null,
            "grid_gap": null,
            "grid_row": null,
            "grid_template_areas": null,
            "grid_template_columns": null,
            "grid_template_rows": null,
            "height": null,
            "justify_content": null,
            "justify_items": null,
            "left": null,
            "margin": null,
            "max_height": null,
            "max_width": null,
            "min_height": null,
            "min_width": null,
            "object_fit": null,
            "object_position": null,
            "order": null,
            "overflow": null,
            "overflow_x": null,
            "overflow_y": null,
            "padding": null,
            "right": null,
            "top": null,
            "visibility": null,
            "width": null
          }
        },
        "73334765da7f405ea0dbcb10f9a967a9": {
          "model_module": "@jupyter-widgets/base",
          "model_name": "LayoutModel",
          "model_module_version": "1.2.0",
          "state": {
            "_model_module": "@jupyter-widgets/base",
            "_model_module_version": "1.2.0",
            "_model_name": "LayoutModel",
            "_view_count": null,
            "_view_module": "@jupyter-widgets/base",
            "_view_module_version": "1.2.0",
            "_view_name": "LayoutView",
            "align_content": null,
            "align_items": null,
            "align_self": null,
            "border": null,
            "bottom": null,
            "display": null,
            "flex": null,
            "flex_flow": null,
            "grid_area": null,
            "grid_auto_columns": null,
            "grid_auto_flow": null,
            "grid_auto_rows": null,
            "grid_column": null,
            "grid_gap": null,
            "grid_row": null,
            "grid_template_areas": null,
            "grid_template_columns": null,
            "grid_template_rows": null,
            "height": null,
            "justify_content": null,
            "justify_items": null,
            "left": null,
            "margin": null,
            "max_height": null,
            "max_width": null,
            "min_height": null,
            "min_width": null,
            "object_fit": null,
            "object_position": null,
            "order": null,
            "overflow": null,
            "overflow_x": null,
            "overflow_y": null,
            "padding": null,
            "right": null,
            "top": null,
            "visibility": null,
            "width": null
          }
        },
        "eb03c2ffc73a4050a415eb820e4b8fc8": {
          "model_module": "@jupyter-widgets/controls",
          "model_name": "DescriptionStyleModel",
          "model_module_version": "1.5.0",
          "state": {
            "_model_module": "@jupyter-widgets/controls",
            "_model_module_version": "1.5.0",
            "_model_name": "DescriptionStyleModel",
            "_view_count": null,
            "_view_module": "@jupyter-widgets/base",
            "_view_module_version": "1.2.0",
            "_view_name": "StyleView",
            "description_width": ""
          }
        },
        "95303c7470174e05b898cc4c944d9d08": {
          "model_module": "@jupyter-widgets/base",
          "model_name": "LayoutModel",
          "model_module_version": "1.2.0",
          "state": {
            "_model_module": "@jupyter-widgets/base",
            "_model_module_version": "1.2.0",
            "_model_name": "LayoutModel",
            "_view_count": null,
            "_view_module": "@jupyter-widgets/base",
            "_view_module_version": "1.2.0",
            "_view_name": "LayoutView",
            "align_content": null,
            "align_items": null,
            "align_self": null,
            "border": null,
            "bottom": null,
            "display": null,
            "flex": null,
            "flex_flow": null,
            "grid_area": null,
            "grid_auto_columns": null,
            "grid_auto_flow": null,
            "grid_auto_rows": null,
            "grid_column": null,
            "grid_gap": null,
            "grid_row": null,
            "grid_template_areas": null,
            "grid_template_columns": null,
            "grid_template_rows": null,
            "height": null,
            "justify_content": null,
            "justify_items": null,
            "left": null,
            "margin": null,
            "max_height": null,
            "max_width": null,
            "min_height": null,
            "min_width": null,
            "object_fit": null,
            "object_position": null,
            "order": null,
            "overflow": null,
            "overflow_x": null,
            "overflow_y": null,
            "padding": null,
            "right": null,
            "top": null,
            "visibility": null,
            "width": null
          }
        },
        "412874c3b6c743549c7e133c8ebfa6ab": {
          "model_module": "@jupyter-widgets/controls",
          "model_name": "ProgressStyleModel",
          "model_module_version": "1.5.0",
          "state": {
            "_model_module": "@jupyter-widgets/controls",
            "_model_module_version": "1.5.0",
            "_model_name": "ProgressStyleModel",
            "_view_count": null,
            "_view_module": "@jupyter-widgets/base",
            "_view_module_version": "1.2.0",
            "_view_name": "StyleView",
            "bar_color": null,
            "description_width": ""
          }
        },
        "94414a47fa9941a08b1a29fcdf8210d0": {
          "model_module": "@jupyter-widgets/base",
          "model_name": "LayoutModel",
          "model_module_version": "1.2.0",
          "state": {
            "_model_module": "@jupyter-widgets/base",
            "_model_module_version": "1.2.0",
            "_model_name": "LayoutModel",
            "_view_count": null,
            "_view_module": "@jupyter-widgets/base",
            "_view_module_version": "1.2.0",
            "_view_name": "LayoutView",
            "align_content": null,
            "align_items": null,
            "align_self": null,
            "border": null,
            "bottom": null,
            "display": null,
            "flex": null,
            "flex_flow": null,
            "grid_area": null,
            "grid_auto_columns": null,
            "grid_auto_flow": null,
            "grid_auto_rows": null,
            "grid_column": null,
            "grid_gap": null,
            "grid_row": null,
            "grid_template_areas": null,
            "grid_template_columns": null,
            "grid_template_rows": null,
            "height": null,
            "justify_content": null,
            "justify_items": null,
            "left": null,
            "margin": null,
            "max_height": null,
            "max_width": null,
            "min_height": null,
            "min_width": null,
            "object_fit": null,
            "object_position": null,
            "order": null,
            "overflow": null,
            "overflow_x": null,
            "overflow_y": null,
            "padding": null,
            "right": null,
            "top": null,
            "visibility": null,
            "width": null
          }
        },
        "00d4f83dffff4fffb196aae67a010a2d": {
          "model_module": "@jupyter-widgets/controls",
          "model_name": "DescriptionStyleModel",
          "model_module_version": "1.5.0",
          "state": {
            "_model_module": "@jupyter-widgets/controls",
            "_model_module_version": "1.5.0",
            "_model_name": "DescriptionStyleModel",
            "_view_count": null,
            "_view_module": "@jupyter-widgets/base",
            "_view_module_version": "1.2.0",
            "_view_name": "StyleView",
            "description_width": ""
          }
        }
      }
    }
  },
  "cells": [
    {
      "cell_type": "markdown",
      "metadata": {
        "id": "view-in-github",
        "colab_type": "text"
      },
      "source": [
        "<a href=\"https://colab.research.google.com/github/Judy-Choi/OSSCA-HuggingFace/blob/main/Hugging_Face_2%EC%A3%BC%EC%B0%A8_%EB%AC%B8%EC%A0%9C.ipynb\" target=\"_parent\"><img src=\"https://colab.research.google.com/assets/colab-badge.svg\" alt=\"Open In Colab\"/></a>"
      ]
    },
    {
      "cell_type": "markdown",
      "source": [
        "# Hugging Face Transformers 실습하며 배우기 🤗"
      ],
      "metadata": {
        "id": "MgdWlhtgkspP"
      }
    },
    {
      "cell_type": "markdown",
      "source": [
        "작성자: Hugging Face KREW, [김하림](https://github.com/harheem)"
      ],
      "metadata": {
        "id": "aNrBlQ8AwHQ9"
      }
    },
    {
      "cell_type": "markdown",
      "source": [
        "트랜스포머 기반의 사전 학습 모델의 뛰어난 점은 엄청난 양의 텍스트 데이터를 사용해 단어와 문장의 관계를 스스로 학습한다는 점이에요. 책, 뉴스, 웹 문서 등 다양한 텍스트를 분석하며 언어의 구조와 의미를 이해하게 된답니다.\n",
        "\n",
        "하지만 이렇게 학습한 모델을 특정 작업에 활용하려면 추가 학습이 필요할 수 있어요. 이를 '파인튜닝'이라고 합니다. 파인튜닝은 적은 양의 labeled 데이터를 사용해 모델을 우리가 원하는 작업에 맞게 조정하는 과정을 의미해요.\n",
        "\n",
        "이번 주에는 이러한 파인튜닝을 위한 데이터셋을 어떻게 준비하는지 배워보도록 할게요. 좋은 데이터셋을 만드는 것이 정확한 모델을 얻는 첫 걸음이니까요 🤗"
      ],
      "metadata": {
        "id": "5f8g1LLZpRT9"
      }
    },
    {
      "cell_type": "markdown",
      "source": [
        "### #문제 004\n",
        "\n",
        "[IMDB 데이터세트](https://huggingface.co/datasets/stanfordnlp/imdb)는 영화 리뷰 코멘트의 긍정적/부정적 감성을 판단하기 위해 사용하는 감성 분석 데이터세트입니다. 데이터세트 구성은 다음과 같아요.\n",
        "- 25,000개 학습 데이터 (텍스트 및 레이블)\n",
        "- 25,000개 테스트 데이터 (텍스트 및 레이블)\n",
        "\n",
        "이 50,000개 데이터세트를 다운로드하는 코드를 작성해보세요. 그리고 학습과 테스트를 위해 랜덤하게 1,000개씩 데이터를 추출해보세요."
      ],
      "metadata": {
        "id": "cOXvKkjPk1Fq"
      }
    },
    {
      "cell_type": "markdown",
      "source": [
        "💡 HINT\n",
        "\n",
        "1.\t필요한 라이브러리 설치:\n",
        "\n",
        "  먼저, Hugging Face의 🤗 datasets 라이브러리를 설치해야 합니다. 커맨드 라인에서 다음 명령어를 실행하세요.\n",
        "\n",
        "  `!pip install datasets`\n",
        "2. `load_dataset()`을 이용하여 데이터세트 불러오세요.\n",
        "\n",
        "  ```python\n",
        "    from datasets import load_dataset\n",
        "    dataset = load_dataset('여기에 데이터세트 이름을 넣어보세요')\n",
        "  ```\n",
        "  \n",
        "3. datasets의 shuffle() 메소드와 select() 메소드를 사용하여 데이터를 추출해보세요.\n",
        "  ```python\n",
        "    dataset['train'].shuffle(seed=seed).select(range(n))\n",
        "  ```\n",
        "\n",
        "> 못 풀겠어도 걱정하지 마세요. [이 문서](https://huggingface.co/docs/datasets/main/en/loading)에서 답을 찾을 수 있어요 👀"
      ],
      "metadata": {
        "id": "KETES-Fd7ZEW"
      }
    },
    {
      "cell_type": "code",
      "source": [
        "!!pip install datasets"
      ],
      "metadata": {
        "colab": {
          "base_uri": "https://localhost:8080/"
        },
        "id": "WRMf2ZssYMEo",
        "outputId": "5e9fcec8-f64f-4927-aaba-230750acc981"
      },
      "execution_count": 1,
      "outputs": [
        {
          "output_type": "execute_result",
          "data": {
            "text/plain": [
              "['Requirement already satisfied: datasets in /usr/local/lib/python3.11/dist-packages (4.0.0)',\n",
              " 'Requirement already satisfied: filelock in /usr/local/lib/python3.11/dist-packages (from datasets) (3.18.0)',\n",
              " 'Requirement already satisfied: numpy>=1.17 in /usr/local/lib/python3.11/dist-packages (from datasets) (2.0.2)',\n",
              " 'Requirement already satisfied: pyarrow>=15.0.0 in /usr/local/lib/python3.11/dist-packages (from datasets) (18.1.0)',\n",
              " 'Requirement already satisfied: dill<0.3.9,>=0.3.0 in /usr/local/lib/python3.11/dist-packages (from datasets) (0.3.8)',\n",
              " 'Requirement already satisfied: pandas in /usr/local/lib/python3.11/dist-packages (from datasets) (2.2.2)',\n",
              " 'Requirement already satisfied: requests>=2.32.2 in /usr/local/lib/python3.11/dist-packages (from datasets) (2.32.3)',\n",
              " 'Requirement already satisfied: tqdm>=4.66.3 in /usr/local/lib/python3.11/dist-packages (from datasets) (4.67.1)',\n",
              " 'Requirement already satisfied: xxhash in /usr/local/lib/python3.11/dist-packages (from datasets) (3.5.0)',\n",
              " 'Requirement already satisfied: multiprocess<0.70.17 in /usr/local/lib/python3.11/dist-packages (from datasets) (0.70.16)',\n",
              " 'Requirement already satisfied: fsspec<=2025.3.0,>=2023.1.0 in /usr/local/lib/python3.11/dist-packages (from fsspec[http]<=2025.3.0,>=2023.1.0->datasets) (2025.3.0)',\n",
              " 'Requirement already satisfied: huggingface-hub>=0.24.0 in /usr/local/lib/python3.11/dist-packages (from datasets) (0.34.3)',\n",
              " 'Requirement already satisfied: packaging in /usr/local/lib/python3.11/dist-packages (from datasets) (25.0)',\n",
              " 'Requirement already satisfied: pyyaml>=5.1 in /usr/local/lib/python3.11/dist-packages (from datasets) (6.0.2)',\n",
              " 'Requirement already satisfied: aiohttp!=4.0.0a0,!=4.0.0a1 in /usr/local/lib/python3.11/dist-packages (from fsspec[http]<=2025.3.0,>=2023.1.0->datasets) (3.12.15)',\n",
              " 'Requirement already satisfied: typing-extensions>=3.7.4.3 in /usr/local/lib/python3.11/dist-packages (from huggingface-hub>=0.24.0->datasets) (4.14.1)',\n",
              " 'Requirement already satisfied: hf-xet<2.0.0,>=1.1.3 in /usr/local/lib/python3.11/dist-packages (from huggingface-hub>=0.24.0->datasets) (1.1.5)',\n",
              " 'Requirement already satisfied: charset-normalizer<4,>=2 in /usr/local/lib/python3.11/dist-packages (from requests>=2.32.2->datasets) (3.4.2)',\n",
              " 'Requirement already satisfied: idna<4,>=2.5 in /usr/local/lib/python3.11/dist-packages (from requests>=2.32.2->datasets) (3.10)',\n",
              " 'Requirement already satisfied: urllib3<3,>=1.21.1 in /usr/local/lib/python3.11/dist-packages (from requests>=2.32.2->datasets) (2.5.0)',\n",
              " 'Requirement already satisfied: certifi>=2017.4.17 in /usr/local/lib/python3.11/dist-packages (from requests>=2.32.2->datasets) (2025.7.14)',\n",
              " 'Requirement already satisfied: python-dateutil>=2.8.2 in /usr/local/lib/python3.11/dist-packages (from pandas->datasets) (2.9.0.post0)',\n",
              " 'Requirement already satisfied: pytz>=2020.1 in /usr/local/lib/python3.11/dist-packages (from pandas->datasets) (2025.2)',\n",
              " 'Requirement already satisfied: tzdata>=2022.7 in /usr/local/lib/python3.11/dist-packages (from pandas->datasets) (2025.2)',\n",
              " 'Requirement already satisfied: aiohappyeyeballs>=2.5.0 in /usr/local/lib/python3.11/dist-packages (from aiohttp!=4.0.0a0,!=4.0.0a1->fsspec[http]<=2025.3.0,>=2023.1.0->datasets) (2.6.1)',\n",
              " 'Requirement already satisfied: aiosignal>=1.4.0 in /usr/local/lib/python3.11/dist-packages (from aiohttp!=4.0.0a0,!=4.0.0a1->fsspec[http]<=2025.3.0,>=2023.1.0->datasets) (1.4.0)',\n",
              " 'Requirement already satisfied: attrs>=17.3.0 in /usr/local/lib/python3.11/dist-packages (from aiohttp!=4.0.0a0,!=4.0.0a1->fsspec[http]<=2025.3.0,>=2023.1.0->datasets) (25.3.0)',\n",
              " 'Requirement already satisfied: frozenlist>=1.1.1 in /usr/local/lib/python3.11/dist-packages (from aiohttp!=4.0.0a0,!=4.0.0a1->fsspec[http]<=2025.3.0,>=2023.1.0->datasets) (1.7.0)',\n",
              " 'Requirement already satisfied: multidict<7.0,>=4.5 in /usr/local/lib/python3.11/dist-packages (from aiohttp!=4.0.0a0,!=4.0.0a1->fsspec[http]<=2025.3.0,>=2023.1.0->datasets) (6.6.3)',\n",
              " 'Requirement already satisfied: propcache>=0.2.0 in /usr/local/lib/python3.11/dist-packages (from aiohttp!=4.0.0a0,!=4.0.0a1->fsspec[http]<=2025.3.0,>=2023.1.0->datasets) (0.3.2)',\n",
              " 'Requirement already satisfied: yarl<2.0,>=1.17.0 in /usr/local/lib/python3.11/dist-packages (from aiohttp!=4.0.0a0,!=4.0.0a1->fsspec[http]<=2025.3.0,>=2023.1.0->datasets) (1.20.1)',\n",
              " 'Requirement already satisfied: six>=1.5 in /usr/local/lib/python3.11/dist-packages (from python-dateutil>=2.8.2->pandas->datasets) (1.17.0)']"
            ]
          },
          "metadata": {},
          "execution_count": 1
        }
      ]
    },
    {
      "cell_type": "code",
      "execution_count": 2,
      "metadata": {
        "id": "FlGwqxXKkpwG"
      },
      "outputs": [],
      "source": [
        "# 필요한 라이브러리 불러오기\n",
        "from datasets import load_dataset\n",
        "\n",
        "# 데이터 불러오기\n",
        "dataset = load_dataset('stanfordnlp/imdb')\n",
        "\n",
        "# 데이터 추출을 위한 seed와 n 정의\n",
        "seed = 42\n",
        "n = 1000\n",
        "\n",
        "# 데이터 추출하기\n",
        "train_dataset = dataset['train'].shuffle(seed=seed).select(range(n))\n",
        "test_dataset = dataset['test'].shuffle(seed=seed).select(range(n))"
      ]
    },
    {
      "cell_type": "code",
      "source": [
        "# 학습 데이터셋에서 첫 번째 샘플 출력\n",
        "print(\"\\n학습 데이터 샘플:\")\n",
        "print(train_dataset[0])\n",
        "\n",
        "# 테스트 데이터셋에서 첫 번째 샘플 출력\n",
        "print(\"\\n테스트 데이터 샘플:\")\n",
        "print(test_dataset[0])"
      ],
      "metadata": {
        "id": "UGoWHr7U1vl8",
        "colab": {
          "base_uri": "https://localhost:8080/"
        },
        "outputId": "c1348fa9-c7af-487a-92a2-f15ac5841b94"
      },
      "execution_count": 3,
      "outputs": [
        {
          "output_type": "stream",
          "name": "stdout",
          "text": [
            "\n",
            "학습 데이터 샘플:\n",
            "{'text': 'There is no relation at all between Fortier and Profiler but the fact that both are police series about violent crimes. Profiler looks crispy, Fortier looks classic. Profiler plots are quite simple. Fortier\\'s plot are far more complicated... Fortier looks more like Prime Suspect, if we have to spot similarities... The main character is weak and weirdo, but have \"clairvoyance\". People like to compare, to judge, to evaluate. How about just enjoying? Funny thing too, people writing Fortier looks American but, on the other hand, arguing they prefer American series (!!!). Maybe it\\'s the language, or the spirit, but I think this series is more English than American. By the way, the actors are really good and funny. The acting is not superficial at all...', 'label': 1}\n",
            "\n",
            "테스트 데이터 샘플:\n",
            "{'text': \"<br /><br />When I unsuspectedly rented A Thousand Acres, I thought I was in for an entertaining King Lear story and of course Michelle Pfeiffer was in it, so what could go wrong?<br /><br />Very quickly, however, I realized that this story was about A Thousand Other Things besides just Acres. I started crying and couldn't stop until long after the movie ended. Thank you Jane, Laura and Jocelyn, for bringing us such a wonderfully subtle and compassionate movie! Thank you cast, for being involved and portraying the characters with such depth and gentleness!<br /><br />I recognized the Angry sister; the Runaway sister and the sister in Denial. I recognized the Abusive Husband and why he was there and then the Father, oh oh the Father... all superbly played. I also recognized myself and this movie was an eye-opener, a relief, a chance to face my OWN truth and finally doing something about it. I truly hope A Thousand Acres has had the same effect on some others out there.<br /><br />Since I didn't understand why the cover said the film was about sisters fighting over land -they weren't fighting each other at all- I watched it a second time. Then I was able to see that if one hadn't lived a similar story, one would easily miss the overwhelming undercurrent of dread and fear and the deep bond between the sisters that runs through it all. That is exactly the reason why people in general often overlook the truth about their neighbors for instance.<br /><br />But yet another reason why this movie is so perfect!<br /><br />I don't give a rat's ass (pardon my French) about to what extend the King Lear story is followed. All I know is that I can honestly say: this movie has changed my life.<br /><br />Keep up the good work guys, you CAN and DO make a difference.<br /><br />\", 'label': 1}\n"
          ]
        }
      ]
    },
    {
      "cell_type": "markdown",
      "source": [
        "### #문제 005\n",
        "\n",
        "문제 005에서 negative `'0'`과 positive `'1'`로 인코딩된 1,000개의 학습 데이터 중에서 800개는 학습 `training` 용도로, 200개는 검증 `validation` 용도로 랜덤하게 나누어 보세요.\n",
        "\n",
        "\n",
        "> 1,000개의 데이터를 800개의 학습용과 200개의 검증용으로 나누는 이유는 모델의 효과적인 학습과 평가를 위해서입니다. 학습 데이터로 모델을 훈련시키고, 검증 데이터로 모델의 성능을 평가합니다. 이렇게 분리함으로써 모델이 학습 데이터만을 '외우는' 과적합을 방지하고, 새로운 데이터에 대한 일반화 능력을 확인할 수 있습니다. 또한, 검증 결과를 바탕으로 모델의 하이퍼파라미터를 조정하여 성능을 개선할 수 있습니다. 이는 머신러닝 모델 개발에서 중요한 과정으로, 더 견고하고 신뢰할 수 있는 모델을 만드는 데 도움이 됩니다."
      ],
      "metadata": {
        "id": "xRJ4M1gdA1cy"
      }
    },
    {
      "cell_type": "markdown",
      "source": [
        "💡 HINT\n",
        "\n",
        "1. `train_test_split()` 메소드를 사용하여 학습 데이터를 8:2로 나누어보세요.\n",
        "\n",
        "2. `train_test_split()` 메소드에서 사용하는 [파라미터를 확인](https://huggingface.co/docs/datasets/v2.20.0/en/package_reference/main_classes#datasets.Dataset.train_test_split)하고 데이터를 나누는 다양한 방법에 대해 익혀보세요.\n",
        "\n",
        "> 못 풀겠어도 걱정하지 마세요. [이 문서](https://huggingface.co/docs/datasets/process#split)에서 답을 찾을 수 있어요 👀"
      ],
      "metadata": {
        "id": "hqyq4Fkfu4pq"
      }
    },
    {
      "cell_type": "code",
      "source": [
        "# 학습 데이터를 8:2 비율로 나누기\n",
        "split_dataset = train_dataset.train_test_split(test_size=0.2, seed=seed)\n",
        "\n",
        "# split_dataset에서 훈련 데이터, 검증 데이터 가져오기\n",
        "train_dataset = split_dataset['train']\n",
        "valid_dataset = split_dataset['test']\n",
        "\n",
        "# 결과 확인\n",
        "print(\"학습 데이터 크기:\", len(train_dataset))\n",
        "print(\"검증 데이터 크기:\", len(valid_dataset))\n",
        "\n",
        "# 학습 데이터의 일부 샘플 출력\n",
        "print(\"\\n학습 데이터 샘플:\")\n",
        "print(train_dataset[:5])\n",
        "\n",
        "# 검증 데이터의 일부 샘플 출력\n",
        "print(\"\\n검증 데이터 샘플:\")\n",
        "print(valid_dataset[:5])"
      ],
      "metadata": {
        "id": "OYG1b1IgBUiX",
        "colab": {
          "base_uri": "https://localhost:8080/"
        },
        "outputId": "c51e45d2-7c31-4209-fd73-a1ba1edbba68"
      },
      "execution_count": 4,
      "outputs": [
        {
          "output_type": "stream",
          "name": "stdout",
          "text": [
            "학습 데이터 크기: 800\n",
            "검증 데이터 크기: 200\n",
            "\n",
            "학습 데이터 샘플:\n",
            "{'text': ['I saw this many years after the television series and, initially, I didn\\'t care for it. Then, as my memory of the series receded with the passage of time, I watched again, and found it absolutely hilarious. Based on the stage play by Neil Simon, it has not been \\'opened out\\' much for the big screen, and that\\'s one of its strengths. Walter Matthau and Jack Lemmon are brilliant as Oscar and Felix, and the supporting cast are wonderful, particularly John Fielder as \\'Vinnie\\'. Even now, certain moments can reduce me to tears of laughter - Felix interrupting Oscar in the middle of a ball game with a dinner request, Oscar cracking up and chasing Felix around the apartment, the giggling \\'Pigeon Sisters\\' brought low by Felix\\'s sob stories, and of course, the legendary cafeteria scene ( later ripped off by Nora Ephron\\'s \\'When Harry Met Sally\\' ). Razor-sharp dialogue too. When the boys think Felix has taken an overdose, Oscar says: \"They could be vitamins! He could be the healthiest one in the room!\". Fantastic!', \"Xizao is a rare little movie. It is simple and undemanding, and at the same time so rewarding in emotion and joy. The story is simple, and the theme of old and new clashing is wonderfully introduced in the first scenes. This theme is the essence of the movie, but it would have fallen flat if it wasn't for the magnificent characters and the actors portraying them.<br /><br />The aging patriarch, Master Liu, is a relic of China's pre-expansion days. He runs a bath house in an old neighbourhood. Every single scene set in the bath house is a source of jelaousy for us stressed out, unhappy people. Not even hardened cynics can find any flaws in this wonderful setting.<br /><br />Master Liu's mentally handicapped son Er Ming is the second truly powerful character in the movie, coupled with his modern-life brother. The interactions between these three people, and the various visitors to the bath house, are amazingly detailed and heart-felt, with some scenes packing so much emotion it's beyond almost everything seen in movies.<br /><br />With its regime-critical message, this movie was not only censored, but also given unreasonably small coverage. It could be a coincidence, but when a movie of this caliber is virtually impossible to find, even on the internet(!), you can't help getting suspicious.<br /><br />So help free speech and the movie world, buy, rent, copy this wonderful movie, and if you happen to own the DVD, if there even is one, then share share share!\", \"This movie is inspiring to anyone who is or has been in a tough jam, whether financially or emotionally. You will definitely laugh, which is the best medicine! :) Left in a bad financial situation when her husband dies, Grace has to find a new way to make some money and it's not exactly legal which adds to the humour. Even my boyfriend liked it so don't think that it's a chick-flic.\", \"Please avoid this movie at all costs. This is without a doubt, the worst movie I've ever seen. Most movies have at least one redeeming value. This has none. Totally horrible!\", 'These slasher pics are past their sell by date, but this one is good fun.<br /><br />The valentine cards themselves are witty, and well thought out.<br /><br />The film has one Peach of a line... \"He\\'s no Angel....\" when he in fact IS Angel!!! Watching Buffy reruns will never be the same!<br /><br />The cast is a sizzling display of young talent, but the story does not give them enough real depth. Denise Richards on the DVD extras seemed to think the girls on set bonded well together and this would give the feeling that you empathised with their characters. Sorry but NO!<br /><br />The direction is very good, managing to show very little actual gore, and relying on your imaginations implied threat. Much can be said also for the similar manner in which Miss Richards and Heigel do not remove their clothes...:-(<br /><br />Essentially, the main directorial plus, lies within the \"borrowing\" of various other ideas from previous slasher flicks. Psycho\\'s shower scene is tributed, along with Halloween\\'s \"masking\". <br /><br />Murdering someone hiding in a bodybag though is a pretty original one as far as I know!!!<br /><br />Light viewing, not very scary but a few good jump moments. If it was a choice between The Hole and this though, choose The Hole. Slasher movies have had their day, and this is just another slasher. A very good slasher, but nothing groundbreaking!!!'], 'label': [1, 1, 1, 0, 1]}\n",
            "\n",
            "검증 데이터 샘플:\n",
            "{'text': ['Probably encouraged by admirers of her much-better \"Orlando\", Potter here delivers a vehicle for herself in the worst way: she writes, directs, stars, and actually co-writes the music, including a mawkish love song. The film strongly resembles a high school or college project by a teenager convinced that her own intimate loves and melodramatic obsessions are as fascinating to us as to her. But Potter\\'s character is as unsympathetic as the object of her romantic obsession is unlikable, and the whole film is an embarrassing display of narcissism masquerading as a celebration of the tango. Perhaps if she hadn\\'t cast herself it might have worked. She just can\\'t act, whether playing herself or not. Pretentious, over-ambitious, dull, and silly.', 'Did the movie-makers even preview this before they released it? The script jumps from place to place without giving much explanation. The beginning doesn\\'t clarify if its a prequel or not. It starts with Superman\\'s beginnings on Earth and then jumps to a point after the last movie - but doesn\\'t really alert the viewer of this. VERY confusing! Superman himself is weak and in need of Prozac. He is portrayed as a potential home-wrecker, a stalker, and someone who is clearly depressed and confused. This type of character rarely makes for an interesting hero. The ending is absolutely ridiculous. Superman ending up in a hospital just made me want to kill him off myself. I\\'m seriously waiting for a SNL skit where Superman appears on Maury Povich and Maury says, \"The results are in - in the case of the child, Superman, you ARE the father.\" To sum up - OK acting by this Superman and Kevin Spacey, but HORRIBLE script. The movie is basically unwatchable.', 'Back in the 1970s, WPIX ran \"The Adventures of Superman\" every weekday afternoon for quite a few years. Every once in a while, we\\'d get a treat when they would preempt neighboring shows to air \"Superman and the Mole Men.\" I always looked forward to those days. Watching it recently, I was surprised at just how bad it really was.<br /><br />It wasn\\'t bad because of the special effects, or lack thereof. True, George Reeves\\' Superman costume was pretty bad, the edges of the foam padding used to make him look more imposing being plainly visible. And true, the Mole Men\\'s costumes were even worse. What was supposed to be a furry covering wouldn\\'t have fooled a ten year-old, since the zippers, sleeve hems and badly pilling fabric badly tailored into baggy costumes were all painfully obvious. But these were forgivable shortcomings.<br /><br />No, what made it bad were the contrived plot devices. Time and again, Superman failed to do anything to keep the situation from deteriorating. A lynch mob is searching for the creatures? Rather than round up the hysterical crowd or search for the creatures himself, he stands around explaining the dangers of the situation to Lois and the PR man. The creatures are cornered? Again, he stands around watching and talking but doesn\\'t save them until they\\'re shot. Luke Benson, the town\\'s rabble-rouser, shoots at him? Attempted murder to any reasonable person, but Superman releases the man over and over to cause more problems. Superman had quite a few opportunities to nip the problem in the bud, but never once took advantage of them.<br /><br />That said, both George Reeves and Phyllis Coates played their characters well, seemingly instantly comfortable in the roles. If only they had been given a better script to work with.', \"Diane and I saw this fabulous film today in Fremantle and we both agreed that of the pastiche movies it was head and shoulders above the rest. I say that because we were entranced by the brief, five to ten minute segments that composed the film and the fact that this film had a theme around which each piece was composed and of course that theme was love in its many forms.<br /><br />Ostensibly the film took place in the various Parisian arrondisments thus giving a particular flavour to each segment. Having only been in Paris several times, I was not knowledgeable enough to readily recognize the locations but I am sure Europeans and particularly French people could easily recognize the city's locations. In any event, the viewer is immediately pulled into each story because of their production excellence so these city locations fade into in-consequence.<br /><br />The film moves quickly and the viewer is left absorbing one scenario while the new one is on the screen. The stories themselves are not graphic like some pulp Hollywood nonsense, they are subtle and thought provoking and gentle as with most of life without the media swath that buries so much of life's beauty under the nearest dung heap just to sell, sell. sell ...<br /><br />Go with someone you care for and allow this magical little film to bathe you like a spa treatment and when you leave my guess is you will feel renewed.\", \"This is a bit long (2 hours, 20 minutes) but it had a a lot of the famous Pearl Buck novel in it. In other words, a lot of ground to cover.<br /><br />It was soap-operish at times but had some visually dramatic moments, too, capped off by a locust attack at the end of the film. That was astounding to view. Considering this film is about 70 years old, the special-effects crew on this film did a spectacular job.<br /><br />Paul Muni and Luise Rainer were award-winning actors in their day and they don't disappoint here, both giving powerful performances. The only problem is credibility as all the Asians are played by Caucasions and some of them, like Walter Connolly, just don't look real. I'd like to see a re-make of this movie with all-Asian actors, not for PC reasons but to simply make the story look and sound more credible.\"], 'label': [0, 0, 0, 1, 1]}\n"
          ]
        }
      ]
    },
    {
      "cell_type": "markdown",
      "source": [
        "### #문제 006\n",
        "\n",
        "문제 004와 005에서 추출한 학습 데이터(800개), 검증 데이터(200개), 테스트 데이터(1,000개)를 사전학습된 distilbert-base-uncased 모델에 투입하기 위해, 토크나이저를 사용해 인코딩하세요.\n",
        "\n",
        "> 토크나이징, 인코딩은 텍스트를 기계가 이해할 수 있는 형태로 변환하는 과정입니다. 토큰은 텍스트의 의미 있는 가장 작은 단위로, 보통 단어나 부분 단어를 의미합니다. 토크나이징은 텍스트를 이러한 토큰들로 나누는 과정입니다. 예를 들어, \"I love NLP\"라는 문장은 \"I\", \"love\", \"NLP\"라는 토큰으로 나눌 수 있습니다.\n",
        "\n",
        "> 인코딩은 나눈 토큰들을 숫자로 변환하는 과정입니다. 각 토큰에는 사전에 정의된 어휘 사전(vocabulary)에 따라 고유한 숫자(ID)가 할당됩니다. 예를 들어, \"I\"는 1021, \"love\"는 2293, \"NLP\"는 11234로 변환될 수 있습니다. 이렇게 변환된 숫자 시퀀스를 `input_ids`라고 부르며, 이는 [1021, 2293, 11234]와 같은 형태를 가집니다. 이렇게 변환된 숫자 형태의 데이터는 기계학습 모델이 처리하기에 적합한 형태가 됩니다."
      ],
      "metadata": {
        "id": "ch4n8Awj2tS0"
      }
    },
    {
      "cell_type": "markdown",
      "source": [
        "💡 HINT\n",
        "\n",
        "1. Hugging Face의 DistilBertTokenizerFast 사용하여 ['distilbert-base-uncased'](https://huggingface.co/distilbert/distilbert-base-uncased) 토크나이저를 불러오세요.\n",
        "  ```python\n",
        "    from transformers import DistilBertTokenizerFast\n",
        "    tokenizer = DistilBertTokenizerFast.from_pretrained(\"불러올 토크나이저 이름을 입력하세요.\")\n",
        "  ```\n",
        "\n",
        "2. 다음의 파라미터를 사용하여 데이터를 토크나이징해보세요. 토크나이저의 [`__call__` 메소드](https://huggingface.co/docs/transformers/main_classes/tokenizer#transformers.PreTrainedTokenizer.__call__)를 직접 사용하여 텍스트를 토크나이징할 수 있어요.\n",
        "  - `padding=True`: 모든 시퀀스의 길이를 동일하게 맞춥니다.\n",
        "  - `truncation=True`: 최대 길이를 초과하는 시퀀스를 잘라냅니다.\n",
        "  - `max_length=512`: 최대 시퀀스 길이를 512로 설정합니다.\n",
        "  - `return_tensors=\"pt\"`: PyTorch 텐서 형태로 결과를 반환합니다.\n"
      ],
      "metadata": {
        "id": "5CAiay9RAiiS"
      }
    },
    {
      "cell_type": "code",
      "source": [
        "# DistilBERT Fast 토크나이저 로드\n",
        "from transformers import DistilBertTokenizerFast\n",
        "tokenizer = DistilBertTokenizerFast.from_pretrained(\"distilbert-base-uncased\")"
      ],
      "metadata": {
        "id": "9Zxm0_gC8zLd",
        "colab": {
          "base_uri": "https://localhost:8080/",
          "height": 145,
          "referenced_widgets": [
            "f4c119bf4b5a4491a7a638d64e85c511",
            "e309535fd237465d85db1fdc691c980c",
            "4c4f6fcb94d74cffa11078b6b3bbae2a",
            "714f4e77edc94fccabffa88d0ba57270",
            "a4e6d97acb834021a9c7fbfd6638ef14",
            "7b958838d7204ae39fa095d4c915bc8a",
            "9992c0da7c164f80b8756e78df6eff77",
            "ecbd936c23b648c0b6ef14e0cb5286c9",
            "d495697fc8cc48eaaa538274117a43db",
            "85558d72a7da490c9a5d42721d706e4e",
            "5784431c00d04d44bbfe7df824d63b7e",
            "6ec5b05f9c624e6f8f1e91f0b6fce1cd",
            "529f8bfa668d4b2ba53e122cd56c8fd5",
            "cb600f2778de435b950c5565ddbf31d7",
            "0d4bf57efda0430cbf0a0bcc7f4371b5",
            "99fe85b2451044d7a0b08d8dc59839ab",
            "47e3b3133cb44ca9bdf3b645c4584311",
            "5a1c0dd5e66a416eab8f4c7c43c58e2a",
            "7f6b75651f6f4b8fa601eecb3530caa9",
            "b2ca0b7757734bf4a6b3eca372e4bd35",
            "82818b4735354b28b7ff423336ba2858",
            "f93dea753e1247319969c7b4af95b90d",
            "47b35191bedb49789449ff5f58e8862f",
            "c6aee929ff2f42d495011e3100321cdf",
            "8560e909262448a19ecc95f27765124c",
            "40f25c53562046ca9e876aba25d3f632",
            "6be80d4ffb27466b9e5475f3b964f719",
            "585fef870e83433893e7df63167e3908",
            "5336ba7b24c342c78c8bd988d200b71f",
            "7c515e7088d94538bca4bf8ae92b426a",
            "22daa93357884cb99cfd542f4a4b11c3",
            "a9e2930380764bd2855a4aba5fc9020c",
            "3a55e98dbf064e96b68b3e9cf2a52c0b",
            "ea5b246b6c4e42409aaa8191880d7549",
            "948fd6d48dc544bb8f3db1c616a69acc",
            "9a65a678df5844b7872b0b2adb8bd69a",
            "ded998db81da4cca90ada8ce043477f1",
            "62bc73a38146402f80ce2da7159c5bbf",
            "73334765da7f405ea0dbcb10f9a967a9",
            "eb03c2ffc73a4050a415eb820e4b8fc8",
            "95303c7470174e05b898cc4c944d9d08",
            "412874c3b6c743549c7e133c8ebfa6ab",
            "94414a47fa9941a08b1a29fcdf8210d0",
            "00d4f83dffff4fffb196aae67a010a2d"
          ]
        },
        "outputId": "68a91bf3-849a-4c25-8d6f-746d163100ca"
      },
      "execution_count": 7,
      "outputs": [
        {
          "output_type": "display_data",
          "data": {
            "text/plain": [
              "tokenizer_config.json:   0%|          | 0.00/48.0 [00:00<?, ?B/s]"
            ],
            "application/vnd.jupyter.widget-view+json": {
              "version_major": 2,
              "version_minor": 0,
              "model_id": "f4c119bf4b5a4491a7a638d64e85c511"
            }
          },
          "metadata": {}
        },
        {
          "output_type": "display_data",
          "data": {
            "text/plain": [
              "vocab.txt:   0%|          | 0.00/232k [00:00<?, ?B/s]"
            ],
            "application/vnd.jupyter.widget-view+json": {
              "version_major": 2,
              "version_minor": 0,
              "model_id": "6ec5b05f9c624e6f8f1e91f0b6fce1cd"
            }
          },
          "metadata": {}
        },
        {
          "output_type": "display_data",
          "data": {
            "text/plain": [
              "tokenizer.json:   0%|          | 0.00/466k [00:00<?, ?B/s]"
            ],
            "application/vnd.jupyter.widget-view+json": {
              "version_major": 2,
              "version_minor": 0,
              "model_id": "47b35191bedb49789449ff5f58e8862f"
            }
          },
          "metadata": {}
        },
        {
          "output_type": "display_data",
          "data": {
            "text/plain": [
              "config.json:   0%|          | 0.00/483 [00:00<?, ?B/s]"
            ],
            "application/vnd.jupyter.widget-view+json": {
              "version_major": 2,
              "version_minor": 0,
              "model_id": "ea5b246b6c4e42409aaa8191880d7549"
            }
          },
          "metadata": {}
        }
      ]
    },
    {
      "cell_type": "code",
      "source": [
        "# 데이터 토크나이징하기\n",
        "tokenized_train = tokenizer(train_dataset['text'][:], padding=True, truncation=True, max_length=512, return_tensors=\"pt\")\n",
        "tokenized_val = tokenizer(valid_dataset['text'][:], padding=True, truncation=True, max_length=512, return_tensors=\"pt\")\n",
        "tokenized_test = tokenizer(test_dataset['text'][:], padding=True, truncation=True, max_length=512, return_tensors=\"pt\")\n",
        "\n",
        "# 추후 질문\n",
        "# 기존 코드는 아래와 같이 train_dataset['text'] 만 작성해도 에러가 발생하지 않았는데, 현재는 에러 발생\n",
        "# tokenized_train = tokenizer(train_dataset['text'], padding=True, truncation=True, max_length=512, return_tensors=\"pt\")\n",
        "# ValueError: text input must be of type `str` (single example), `list[str]` (batch or single pretokenized example) or `list[list[str]]` (batch of pretokenized examples)."
      ],
      "metadata": {
        "id": "3UQAP2lOEoYW"
      },
      "execution_count": 10,
      "outputs": []
    },
    {
      "cell_type": "code",
      "source": [
        "# 결과 확인\n",
        "print(\"학습 데이터 인풋 크기:\", len(tokenized_train['input_ids']))\n",
        "print(\"검증 데이터 인풋 크기:\", len(tokenized_val['input_ids']))\n",
        "print(\"테스트 데이터 인풋 크기:\", len(tokenized_test['input_ids']))\n",
        "\n",
        "# 0번째 텍스트의 5번째 토큰까지의 input_ids 출력\n",
        "print(\"\\n토크나이징된 학습 데이터 샘플:\", tokenized_train['input_ids'][0][:5])\n",
        "\n",
        "# 위의 결과를 디코딩하여 출력\n",
        "print(\"\\n   디코딩된 학습 데이터 샘플:\", tokenizer.decode(tokenized_train['input_ids'][0][:5]))"
      ],
      "metadata": {
        "id": "B9zLYzzPF0qB",
        "colab": {
          "base_uri": "https://localhost:8080/"
        },
        "outputId": "61305ac6-88dd-4a78-c896-9d7054a62e81"
      },
      "execution_count": 11,
      "outputs": [
        {
          "output_type": "stream",
          "name": "stdout",
          "text": [
            "학습 데이터 인풋 크기: 800\n",
            "검증 데이터 인풋 크기: 200\n",
            "테스트 데이터 인풋 크기: 1000\n",
            "\n",
            "토크나이징된 학습 데이터 샘플: tensor([ 101, 1045, 2387, 2023, 2116])\n",
            "\n",
            "   디코딩된 학습 데이터 샘플: [CLS] i saw this many\n"
          ]
        }
      ]
    },
    {
      "cell_type": "markdown",
      "source": [
        "지금까지 정말 수고 많으셨습니다 🤗 지난 주 보다는 조금 어려웠는데 잘 따라오셨나요?\n",
        "\n",
        "이전에 작성한 코드를 바탕으로 Dataset을 상속하는 IMDbDataset 클래스를 만들어 볼게요. 이 클래스는 IMDB 데이터셋을 효율적으로 처리하고, 다음 주에 진행할 언어 모델 파인튜닝에 사용될 거예요."
      ],
      "metadata": {
        "id": "yqmsuxIMI_MD"
      }
    },
    {
      "cell_type": "code",
      "source": [
        "import torch\n",
        "from datasets import Dataset\n",
        "\n",
        "class IMDbDataset(Dataset):\n",
        "    def __init__(self, tokenized_data, labels):\n",
        "        self.input_ids = tokenized_data['input_ids'].clone().detach()\n",
        "        self.attention_mask = tokenized_data['attention_mask'].clone().detach()\n",
        "        self.labels = torch.tensor(labels)\n",
        "\n",
        "    def __len__(self):\n",
        "        return len(self.input_ids)\n",
        "\n",
        "    def __getitem__(self, idx):\n",
        "        return {\n",
        "            'input_ids': self.input_ids[idx],\n",
        "            'attention_mask': self.attention_mask[idx],\n",
        "            'labels': self.labels[idx]\n",
        "        }\n",
        "\n",
        "# 원본 데이터셋에서 labels 추출\n",
        "train_labels = train_dataset['label']\n",
        "val_labels = valid_dataset['label']\n",
        "test_labels = test_dataset['label']\n",
        "\n",
        "# 클래스 인스턴스화\n",
        "train_dataset = IMDbDataset(tokenized_train, train_labels)\n",
        "val_dataset = IMDbDataset(tokenized_val, val_labels)\n",
        "test_dataset = IMDbDataset(tokenized_test, test_labels)\n",
        "\n",
        "# 결과 확인\n",
        "print(\"학습 데이터 크기:\", len(train_dataset))\n",
        "print(\"검증 데이터 크기:\", len(val_dataset))\n",
        "print(\"테스트 데이터 크기:\", len(test_dataset))\n",
        "\n",
        "# 데이터 샘플 확인\n",
        "print(\"\\n학습 데이터 샘플:\")\n",
        "sample = train_dataset[0]\n",
        "print(\"Input IDs:\", sample['input_ids'][:10], \"...\")  # 처음 10개 토큰만 출력\n",
        "print(\"Attention Mask:\", sample['attention_mask'][:10], \"...\")\n",
        "print(\"Label:\", sample['labels'])"
      ],
      "metadata": {
        "id": "rB_h9Q8qKjlr",
        "colab": {
          "base_uri": "https://localhost:8080/"
        },
        "outputId": "f4de46e7-2c16-45f7-e792-0ac41be619a6"
      },
      "execution_count": 12,
      "outputs": [
        {
          "output_type": "stream",
          "name": "stdout",
          "text": [
            "학습 데이터 크기: 800\n",
            "검증 데이터 크기: 200\n",
            "테스트 데이터 크기: 1000\n",
            "\n",
            "학습 데이터 샘플:\n",
            "Input IDs: tensor([ 101, 1045, 2387, 2023, 2116, 2086, 2044, 1996, 2547, 2186]) ...\n",
            "Attention Mask: tensor([1, 1, 1, 1, 1, 1, 1, 1, 1, 1]) ...\n",
            "Label: tensor(1)\n"
          ]
        }
      ]
    },
    {
      "cell_type": "markdown",
      "source": [
        "> 📝 위 코드를 이해하기 위한 개념들을 아래에다 정리해보았어요.\n",
        "- `텐서(Tensor)`\n",
        "  - 숫자 데이터를 담는 다차원 배열입니다.\n",
        "  - 머신러닝과 딥러닝에서 데이터를 표현하는 기본 단위입니다.\n",
        "  - NumPy의 배열과 유사하지만, GPU에서 빠른 연산이 가능합니다.\n",
        "  - PyTorch에서는 torch.tensor()로 생성합니다.\n",
        "- `input_ids`\n",
        "  - 텍스트를 숫자로 변환한 결과입니다.\n",
        "  - 각 단어나 부분 단어(서브워드)가 고유한 정수 ID로 표현됩니다.\n",
        "  - 예: \"I love NLP\" → [101, 1045, 2293, 19204, 102]\n",
        "  - 101과 102는 각각 문장의 시작과 끝을 나타내는 특수 토큰입니다.\n",
        "- `attention_mask`\n",
        "  - 실제 입력 데이터와 패딩을 구분하는 이진 마스크입니다.\n",
        "  - 1은 실제 토큰을, 0은 패딩 토큰을 나타냅니다.\n",
        "  - 모델이 패딩된 부분을 무시하고 실제 입력에만 주목하게 합니다.\n",
        "  - 예: [1, 1, 1, 1, 1, 0, 0] (5개의 실제 토큰, 2개의 패딩)\n",
        "- `labels`\n",
        "  - 각 텍스트 샘플의 분류 결과를 나타내는 숫자입니다.\n",
        "  - 이진 분류의 경우, 보통 0과 1로 표현합니다.\n",
        "  - IMDB 데이터셋의 경우: 0은 부정적 리뷰, 1은 긍정적 리뷰\n",
        "  - 다중 분류 작업에서는 클래스 수만큼의 고유한 정수를 사용합니다."
      ],
      "metadata": {
        "id": "4AJEwo4FLDP8"
      }
    },
    {
      "cell_type": "markdown",
      "metadata": {
        "id": "bdc3b692"
      },
      "source": [
        "> 📝 위 코드에 대한 설명입니다.\n",
        "\n",
        "- `torch.utils.data.DataLoader`: PyTorch에서 데이터셋을 효율적으로 로드하고 배치 처리하기 위한 유틸리티 클래스입니다.\n",
        "- `batch_size=16`: 한 번에 처리할 데이터 샘플의 수를 16개로 설정합니다. 이 값은 하드웨어 자원(특히 GPU 메모리)과 모델 크기에 따라 조절될 수 있습니다.\n",
        "- `shuffle=True` (학습 데이터): 학습 데이터의 경우 에포크마다 데이터의 순서를 무작위로 섞어 모델이 데이터의 특정 순서에 과적합되는 것을 방지합니다.\n",
        "- `shuffle=False` (검증 및 테스트 데이터): 검증 및 테스트 데이터의 경우 데이터의 순서를 고정하여 매 평가마다 일관된 결과를 얻을 수 있도록 합니다."
      ]
    }
  ]
}